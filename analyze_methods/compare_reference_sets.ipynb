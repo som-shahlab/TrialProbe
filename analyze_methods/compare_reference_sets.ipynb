{
 "cells": [
  {
   "cell_type": "code",
   "execution_count": 1,
   "id": "7949d5a8-8968-4083-9a10-51c8413e0726",
   "metadata": {},
   "outputs": [],
   "source": [
    "import json\n",
    "import math\n",
    "import numpy as np\n",
    "import random\n",
    "import scipy.stats"
   ]
  },
  {
   "cell_type": "code",
   "execution_count": 2,
   "id": "0e0b1448-830e-4b52-82c3-4dc284f623ab",
   "metadata": {},
   "outputs": [],
   "source": [
    "from utils import join_reference_set_and_results, compute_sign_rate_found, create_map"
   ]
  },
  {
   "cell_type": "code",
   "execution_count": 3,
   "id": "b4332290-2105-4c4b-bd13-23a28538627a",
   "metadata": {},
   "outputs": [],
   "source": [
    "with open('observational_results.txt') as f:\n",
    "    observational_results = [json.loads(a) for a in f]\n",
    "\n",
    "reference_set_names = ['../raw_reference_set.txt', '../reference_set.txt', '../multi_rct_reference_set.txt']\n",
    "reference_sets = []\n",
    "\n",
    "for reference_set_name in reference_set_names:\n",
    "    with open(reference_set_name) as f:\n",
    "        reference_sets.append([json.loads(a) for a in f])"
   ]
  },
  {
   "cell_type": "code",
   "execution_count": 4,
   "id": "f68da17c-b1e1-48be-a28a-029a4c09443d",
   "metadata": {},
   "outputs": [],
   "source": [
    "filtered_maps = []\n",
    "for reference_set in reference_sets:\n",
    "    joined = join_reference_set_and_results(reference_set, observational_results)\n",
    "    filtered_maps.append(create_map([a for a in joined if 'postmean' in a]))"
   ]
  },
  {
   "cell_type": "code",
   "execution_count": 5,
   "id": "50ce15c8-bec2-4369-806b-edea0b5197ea",
   "metadata": {},
   "outputs": [],
   "source": [
    "total_keys = set()\n",
    "for filtered_map in filtered_maps:\n",
    "    total_keys |= set(filtered_map.keys())\n",
    "\n",
    "total_keys = sorted(list(total_keys))"
   ]
  },
  {
   "cell_type": "code",
   "execution_count": 6,
   "id": "d20931d5-52fe-4ac9-a611-1090213c960c",
   "metadata": {},
   "outputs": [
    {
     "name": "stdout",
     "output_type": "stream",
     "text": [
      "1.5 4\n",
      "../raw_reference_set.txt (0.8480380935141079, 0.40602321589902685)\n",
      "../reference_set.txt (0.9640821238961352, 0.5177798422462125)\n",
      "../multi_rct_reference_set.txt (0.8478283725884798, 0.5442462158317966)\n",
      "0\n",
      "100\n",
      "200\n",
      "300\n",
      "400\n",
      "500\n",
      "600\n",
      "700\n",
      "800\n",
      "900\n"
     ]
    }
   ],
   "source": [
    "random.seed(123154)\n",
    "\n",
    "performances = [[] for _ in range(len(filtered_maps))]\n",
    "\n",
    "method_type = 'cox'\n",
    "method_key = 'logistic_match'\n",
    "\n",
    "lower_limit = 1.5\n",
    "upper_limit = 4\n",
    "\n",
    "def get_performance_at(sample, filtered_map, value):\n",
    "    filtered = [filtered_map.get(k) for k in sample if k in filtered_map]\n",
    "    sorted_by_bayes = sorted(filtered, key=lambda v: v['postmean'])\n",
    "    \n",
    "    postmean, fraction_correct, fraction_found, num_significant = compute_sign_rate_found(sorted_by_bayes, method_type, method_key)\n",
    "\n",
    "    return np.interp(-value, -postmean, fraction_correct), np.interp(-value, -postmean, fraction_found)\n",
    "\n",
    "\n",
    "def get_average_performance_between(sample, filtered_map, lower_limit, upper_limit):\n",
    "    filtered = [filtered_map.get(k) for k in sample if k in filtered_map]\n",
    "    sorted_by_bayes = sorted(filtered, key=lambda v: v['postmean'])\n",
    "    \n",
    "    postmean, fraction_correct, fraction_found, num_significant = compute_sign_rate_found(sorted_by_bayes, method_type, method_key)\n",
    "\n",
    "    first_less_than_limit = np.argmax(postmean < upper_limit)\n",
    "    assert postmean[first_less_than_limit] < upper_limit\n",
    "    assert postmean[first_less_than_limit - 1] >= upper_limit\n",
    "    \n",
    "    postmean[first_less_than_limit - 1] = upper_limit\n",
    "    \n",
    "    postmean = postmean[first_less_than_limit - 1:]\n",
    "    fraction_correct = fraction_correct[first_less_than_limit - 1:]\n",
    "    fraction_found = fraction_found[first_less_than_limit - 1:]\n",
    "\n",
    "    first_greater_than = np.argmax(postmean <= lower_limit)\n",
    "    assert postmean[first_greater_than] <= lower_limit\n",
    "    assert postmean[first_greater_than - 1] > lower_limit\n",
    "    \n",
    "    postmean[first_greater_than - 1] = lower_limit\n",
    "    \n",
    "    postmean = postmean[:first_greater_than]\n",
    "    fraction_correct = fraction_correct[:first_greater_than]\n",
    "    fraction_found = fraction_found[:first_greater_than]\n",
    "\n",
    "    return -np.trapz(fraction_correct, postmean) / (upper_limit - lower_limit), -np.trapz(fraction_found, postmean) / (upper_limit - lower_limit)\n",
    "\n",
    "print(lower_limit, upper_limit)\n",
    "for reference_set_name, filtered_map in zip(reference_set_names, filtered_maps):\n",
    "    print(reference_set_name, get_performance_at(total_keys, filtered_map, 2.5))\n",
    "\n",
    "for i in range(1000):\n",
    "    if i % 100 == 0:\n",
    "        print(i)\n",
    "    sample = random.choices(total_keys, k=len(total_keys))\n",
    "    for performance, filtered_map in zip(performances, filtered_maps):\n",
    "        performance.append(get_performance_at(sample, filtered_map, 2.5))"
   ]
  },
  {
   "cell_type": "code",
   "execution_count": 8,
   "id": "221e9d5d-fd60-4dd9-8217-4776d4bea832",
   "metadata": {},
   "outputs": [
    {
     "name": "stdout",
     "output_type": "stream",
     "text": [
      "../raw_reference_set.txt ../reference_set.txt\n",
      "concordance\n",
      "../raw_reference_set.txt 71.84\n",
      "../reference_set.txt 74.58\n",
      "-2.192979094129564 0.028308885362442898\n",
      "[-0.20483625 -0.00974334]\n",
      "-0.10770897371983018 0.049115367313878555\n",
      "recovery\n",
      "../raw_reference_set.txt 31.70\n",
      "../reference_set.txt 40.82\n",
      "-1.9413986626508721 0.05220994039545384\n",
      "[-0.22109196 -0.00110216]\n",
      "-0.1115835688837142 0.05747586574070934\n",
      "../raw_reference_set.txt ../multi_rct_reference_set.txt\n",
      "concordance\n",
      "../raw_reference_set.txt 71.84\n",
      "../multi_rct_reference_set.txt 68.36\n",
      "0.09312430377062021 0.9258048097133519\n",
      "[-0.12134034  0.16246384]\n",
      "0.0067721553102932045 0.07272167453701546\n",
      "recovery\n",
      "../raw_reference_set.txt 31.70\n",
      "../multi_rct_reference_set.txt 38.29\n",
      "-1.678800991419248 0.09319083533721673\n",
      "[-0.2862471   0.03311037]\n",
      "-0.13476404184488627 0.08027398276132633\n"
     ]
    }
   ],
   "source": [
    "for i in range(1, len(reference_set_names)):\n",
    "    print(reference_set_names[0], reference_set_names[i])\n",
    "    for index, name in enumerate([\"concordance\", \"recovery\"]):\n",
    "        helper = lambda a: a[index]\n",
    "        print(name)\n",
    "\n",
    "        for other in (0, i):\n",
    "            print(reference_set_names[other], f'{100 * helper(get_performance_at(total_keys, filtered_maps[other], 2)):0.2f}')\n",
    "        \n",
    "        deltas = []\n",
    "        for a, b in zip(performances[0], performances[i]):\n",
    "            deltas.append(helper(a) - helper(b))\n",
    "    \n",
    "        z = np.mean(deltas) / np.std(deltas, ddof=1)\n",
    "        p = scipy.stats.norm.sf(abs(z)) * 2\n",
    "        print(z, p)\n",
    "    \n",
    "        print(np.quantile(deltas, [0.025, 0.975]))\n",
    "        \n",
    "        print(np.mean(deltas), np.std(deltas,ddof=1))"
   ]
  }
 ],
 "metadata": {
  "kernelspec": {
   "display_name": "Python 3 (ipykernel)",
   "language": "python",
   "name": "python3"
  },
  "language_info": {
   "codemirror_mode": {
    "name": "ipython",
    "version": 3
   },
   "file_extension": ".py",
   "mimetype": "text/x-python",
   "name": "python",
   "nbconvert_exporter": "python",
   "pygments_lexer": "ipython3",
   "version": "3.10.12"
  }
 },
 "nbformat": 4,
 "nbformat_minor": 5
}
